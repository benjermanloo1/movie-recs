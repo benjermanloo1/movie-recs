{
 "cells": [
  {
   "cell_type": "code",
   "execution_count": 117,
   "id": "0b38d53d-1aaf-4795-bd4d-cdcc7f70d739",
   "metadata": {},
   "outputs": [],
   "source": [
    "import pandas as pd\n",
    "import re\n",
    "from sklearn.feature_extraction.text import TfidfVectorizer\n",
    "from sklearn.metrics.pairwise import cosine_similarity\n",
    "import numpy as np\n",
    "import ipywidgets as widgets\n",
    "from IPython.display import display\n",
    "\n",
    "# reading in data sets\n",
    "movies = pd.read_csv(\"movies.csv\")\n",
    "ratings = pd.read_csv(\"ratings.csv\")"
   ]
  },
  {
   "cell_type": "code",
   "execution_count": 118,
   "id": "487bf0e1-a87e-4b80-a2cd-8d3fefa7e886",
   "metadata": {},
   "outputs": [],
   "source": [
    "# cleaning function\n",
    "def clean_title(title):\n",
    "    return re.sub(\"[^a-zA-Z0-9 ]\", \"\", title)\n",
    "\n",
    "def clean_genres(genres):\n",
    "    return genres.split('|')"
   ]
  },
  {
   "cell_type": "code",
   "execution_count": 119,
   "id": "f09c770f-3511-48f7-af80-03eb07307493",
   "metadata": {},
   "outputs": [],
   "source": [
    "# applying cleaning fucntion\n",
    "movies[\"clean_title\"] = movies[\"title\"].apply(clean_title)\n",
    "movies[\"clean_genres\"] = movies[\"genres\"].apply(clean_genres)"
   ]
  },
  {
   "cell_type": "code",
   "execution_count": 120,
   "id": "d3c060ae-04d6-46bd-8a8c-eb01f2a61325",
   "metadata": {},
   "outputs": [],
   "source": [
    "# creating vectorizer\n",
    "vectorizer = TfidfVectorizer(ngram_range=(1,2))\n",
    "\n",
    "tfidf = vectorizer.fit_transform(movies[\"clean_title\"])"
   ]
  },
  {
   "cell_type": "code",
   "execution_count": 142,
   "id": "5e47b227-bd70-4fdd-bad2-f5d27baac2a6",
   "metadata": {},
   "outputs": [],
   "source": [
    "def search(title, genres):\n",
    "    title = clean_title(title)\n",
    "    query_vec = vectorizer.transform([title])\n",
    "    similarity = cosine_similarity(query_vec, tfidf).flatten()\n",
    "    indices = np.argpartition(similarity, -5) [-5:]\n",
    "    results = movies.iloc[indices][::-1]\n",
    "    results[\"clean_genres\"] = results[\"genres\"].apply(clean_genres)\n",
    "\n",
    "    # genre filtering\n",
    "    if genres:\n",
    "        results = results[results['clean_genres'].apply(lambda x: any(genre in x for genre in genres))]\n",
    "\n",
    "    return results"
   ]
  },
  {
   "cell_type": "code",
   "execution_count": 143,
   "id": "1f1f9bbe-aaae-4686-9bec-3ef557dc382b",
   "metadata": {},
   "outputs": [],
   "source": [
    "def find_similar_movies(movie_id, rating, genres):\n",
    "    similar_users = ratings[(ratings[\"movieId\"] == movie_id) & (ratings[\"rating\"] >= rating)][\"userId\"].unique()\n",
    "    similar_user_recs = ratings[(ratings[\"userId\"].isin(similar_users)) & (ratings[\"rating\"] >= rating)][\"movieId\"]\n",
    "\n",
    "    similar_user_recs = similar_user_recs.value_counts() / len(similar_users)\n",
    "    similar_user_recs = similar_user_recs[similar_user_recs > .1]\n",
    "\n",
    "    all_users = ratings[(ratings[\"movieId\"].isin(similar_user_recs.index)) & (ratings[\"rating\"] >= rating)]\n",
    "    all_users_recs = all_users[\"movieId\"].value_counts() / len(all_users[\"userId\"].unique())\n",
    "\n",
    "    rec_percentages = pd.concat([similar_user_recs, all_users_recs], axis=1)\n",
    "    rec_percentages.columns = [\"similar\", \"all\"]\n",
    "\n",
    "    rec_percentages[\"score\"] = rec_percentages[\"similar\"] / rec_percentages[\"all\"]\n",
    "    rec_percentages = rec_percentages.sort_values(\"score\", ascending=False)\n",
    "    \n",
    "    recs = rec_percentages.head(10).merge(movies, left_index=True, right_on=\"movieId\")[[\"score\", \"title\", \"genres\"]]\n",
    "    recs[\"clean_genres\"] = recs[\"genres\"].apply(clean_genres)\n",
    "\n",
    "    # filtering recommendations by genre\n",
    "    if genres:\n",
    "        recs = recs[recs['clean_genres'].apply(lambda x: any(genre in x for genre in genres))]\n",
    "    \n",
    "    return recs"
   ]
  },
  {
   "cell_type": "code",
   "execution_count": 145,
   "id": "ded754af-b8fa-47e2-becb-62fa32dd5c54",
   "metadata": {},
   "outputs": [
    {
     "data": {
      "application/vnd.jupyter.widget-view+json": {
       "model_id": "face4e985cc648f1b2cb09a72f973779",
       "version_major": 2,
       "version_minor": 0
      },
      "text/plain": [
       "Text(value='Toy Story', description='Movie Title:')"
      ]
     },
     "metadata": {},
     "output_type": "display_data"
    },
    {
     "data": {
      "application/vnd.jupyter.widget-view+json": {
       "model_id": "132b7a2026014bd79792b34f56711870",
       "version_major": 2,
       "version_minor": 0
      },
      "text/plain": [
       "FloatSlider(value=0.0, description='Rating:', max=5.0, step=0.5)"
      ]
     },
     "metadata": {},
     "output_type": "display_data"
    },
    {
     "data": {
      "application/vnd.jupyter.widget-view+json": {
       "model_id": "a91fe3a515a14bcd9532941e6a6d0ccb",
       "version_major": 2,
       "version_minor": 0
      },
      "text/plain": [
       "SelectMultiple(description='Genres:', options=('(no genres listed)', 'Action', 'Adventure', 'Animation', 'Chil…"
      ]
     },
     "metadata": {},
     "output_type": "display_data"
    },
    {
     "data": {
      "application/vnd.jupyter.widget-view+json": {
       "model_id": "f7d0000c1dfb4d18866c55424d3fc496",
       "version_major": 2,
       "version_minor": 0
      },
      "text/plain": [
       "Output()"
      ]
     },
     "metadata": {},
     "output_type": "display_data"
    }
   ],
   "source": [
    "# creating widgets\n",
    "title_input = widgets.Text(\n",
    "    value=\"Toy Story\",\n",
    "    description=\"Movie Title:\",\n",
    "    disabled=False\n",
    ")\n",
    "\n",
    "rating_input = widgets.FloatSlider(\n",
    "    description=\"Rating:\",\n",
    "    min=0,\n",
    "    max=5,\n",
    "    step=0.5\n",
    ")\n",
    "\n",
    "genre_options = sorted(set([genre for sublist in movies['clean_genres'] for genre in sublist]))\n",
    "genre_input = widgets.SelectMultiple(\n",
    "    options=genre_options,\n",
    "    description=\"Genres:\",\n",
    "    disabled=False\n",
    ")\n",
    "\n",
    "rec_list = widgets.Output()\n",
    "\n",
    "def on_type(data):\n",
    "    with rec_list:\n",
    "        rec_list.clear_output()\n",
    "        title = title_input.value\n",
    "        rating = rating_input.value\n",
    "        genres = genre_input.value\n",
    "        \n",
    "        if len(title) > 5:\n",
    "            results = search(title, genres)\n",
    "            if not results.empty:\n",
    "                movie_id = results.iloc[0][\"movieId\"]\n",
    "                display(find_similar_movies(movie_id, rating, genres))\n",
    "            else:\n",
    "                print(\"No movies of matching criteria\")\n",
    "\n",
    "title_input.observe(on_type, names=\"value\")\n",
    "rating_input.observe(on_type, names=\"value\")\n",
    "genre_input.observe(on_type, names=\"value\")\n",
    "\n",
    "display(title_input, rating_input, genre_input, rec_list)"
   ]
  }
 ],
 "metadata": {
  "kernelspec": {
   "display_name": "Python 3 (ipykernel)",
   "language": "python",
   "name": "python3"
  },
  "language_info": {
   "codemirror_mode": {
    "name": "ipython",
    "version": 3
   },
   "file_extension": ".py",
   "mimetype": "text/x-python",
   "name": "python",
   "nbconvert_exporter": "python",
   "pygments_lexer": "ipython3",
   "version": "3.12.3"
  }
 },
 "nbformat": 4,
 "nbformat_minor": 5
}
